{
 "cells": [
  {
   "cell_type": "code",
   "execution_count": 1,
   "id": "3c976ed0",
   "metadata": {},
   "outputs": [],
   "source": [
    "# Import the random module.\n",
    "import random"
   ]
  },
  {
   "cell_type": "code",
   "execution_count": 2,
   "id": "d47a8006",
   "metadata": {},
   "outputs": [],
   "source": [
    "# Import the NumPy module.\n",
    "import numpy as np"
   ]
  },
  {
   "cell_type": "code",
   "execution_count": 4,
   "id": "d629f2c6",
   "metadata": {},
   "outputs": [
    {
     "data": {
      "text/plain": [
       "array([ 43.99892186,  42.54164513, -45.87601103,   5.98969934,\n",
       "        13.51015329,  89.96045576, -59.00956606,  46.92528184,\n",
       "       -25.24047188, -69.54847256,  72.47649134,  62.5820446 ,\n",
       "       -70.96036449,  18.5013498 , -10.88542627, -52.29732033,\n",
       "        22.67326844,  66.20593779,  20.8274456 , -46.56832775,\n",
       "       -30.41185539, -84.05106719, -36.47156994,   6.1037461 ,\n",
       "        57.75766829,  -7.4925057 , -25.18623643, -73.95856624,\n",
       "        41.79421104, -62.39499761, -74.2906417 ,  76.77911447,\n",
       "        83.59644573,  78.41761566, -77.3131061 , -70.93372222,\n",
       "       -14.31486257,  25.15181778,  26.00419363, -46.57035126,\n",
       "        33.23058451, -34.77663268,  62.73308077, -18.06446659,\n",
       "        19.3662133 , -72.91060762,  70.44458429, -67.18198507,\n",
       "       -73.59816   ,  55.0621344 ])"
      ]
     },
     "execution_count": 4,
     "metadata": {},
     "output_type": "execute_result"
    }
   ],
   "source": [
    "np.random.uniform(-90.000, 90.000, size=50)"
   ]
  },
  {
   "cell_type": "code",
   "execution_count": 5,
   "id": "d25a4cde",
   "metadata": {},
   "outputs": [],
   "source": [
    "# Import timeit.\n",
    "import timeit"
   ]
  },
  {
   "cell_type": "code",
   "execution_count": 6,
   "id": "240ab2fc",
   "metadata": {},
   "outputs": [
    {
     "name": "stdout",
     "output_type": "stream",
     "text": [
      "15.4 µs ± 470 ns per loop (mean ± std. dev. of 7 runs, 100000 loops each)\n"
     ]
    }
   ],
   "source": [
    "%timeit np.random.uniform(-90.000, 90.000, size=1500)"
   ]
  },
  {
   "cell_type": "code",
   "execution_count": 7,
   "id": "0003f9db",
   "metadata": {},
   "outputs": [
    {
     "name": "stdout",
     "output_type": "stream",
     "text": [
      "2.51 ms ± 80.8 µs per loop (mean ± std. dev. of 7 runs, 100 loops each)\n"
     ]
    }
   ],
   "source": [
    "def latitudes(size):\n",
    "    latitudes = []\n",
    "    x = 0\n",
    "    while x < (size):\n",
    "        random_lat = random.randint(-90, 90) + random.random()\n",
    "        latitudes.append(random_lat)\n",
    "        x += 1\n",
    "    return latitudes\n",
    "# Call the function with 1500.\n",
    "%timeit latitudes(1500)"
   ]
  },
  {
   "cell_type": "code",
   "execution_count": null,
   "id": "4fc7e58f",
   "metadata": {},
   "outputs": [],
   "source": []
  }
 ],
 "metadata": {
  "kernelspec": {
   "display_name": "PythonData",
   "language": "python",
   "name": "pythondata"
  },
  "language_info": {
   "codemirror_mode": {
    "name": "ipython",
    "version": 3
   },
   "file_extension": ".py",
   "mimetype": "text/x-python",
   "name": "python",
   "nbconvert_exporter": "python",
   "pygments_lexer": "ipython3",
   "version": "3.7.10"
  }
 },
 "nbformat": 4,
 "nbformat_minor": 5
}
